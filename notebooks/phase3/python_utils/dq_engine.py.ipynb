{
 "cells": [
  {
   "cell_type": "code",
   "execution_count": 0,
   "metadata": {
    "application/vnd.databricks.v1+cell": {
     "cellMetadata": {
      "byteLimit": 2048000,
      "rowLimit": 10000
     },
     "inputWidgets": {},
     "nuid": "477ca377-a870-4927-8a57-b3535268b69f",
     "showTitle": false,
     "tableResultSettingsMap": {},
     "title": ""
    }
   },
   "outputs": [],
   "source": [
    "# dq_engine.py\n",
    "\n",
    "from pyspark.sql.functions import col\n",
    "\n",
    "def apply_dq_rules(df, dq_rules_dict):\n",
    "    \"\"\"\n",
    "    Applies basic DQ rules from a rule dictionary.\n",
    "    Example rule: {\"column\": \"customer_id\", \"rule\": \"not_null\"}\n",
    "    \"\"\"\n",
    "    for rule in dq_rules_dict.get(\"rules\", []):\n",
    "        column = rule.get(\"column\")\n",
    "        rule_type = rule.get(\"rule\")\n",
    "\n",
    "        if rule_type == \"not_null\":\n",
    "            df = df.filter(col(column).isNotNull())\n",
    "\n",
    "    return df\n"
   ]
  }
 ],
 "metadata": {
  "application/vnd.databricks.v1+notebook": {
   "computePreferences": null,
   "dashboards": [],
   "environmentMetadata": {
    "base_environment": "",
    "environment_version": "2"
   },
   "inputWidgetPreferences": null,
   "language": "python",
   "notebookMetadata": {
    "pythonIndentUnit": 4
   },
   "notebookName": "dq_engine.py",
   "widgets": {}
  },
  "language_info": {
   "name": "python"
  }
 },
 "nbformat": 4,
 "nbformat_minor": 0
}
