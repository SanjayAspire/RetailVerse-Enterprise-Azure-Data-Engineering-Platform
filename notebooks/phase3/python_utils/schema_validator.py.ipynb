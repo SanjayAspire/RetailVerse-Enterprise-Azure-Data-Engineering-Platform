{
 "cells": [
  {
   "cell_type": "code",
   "execution_count": 0,
   "metadata": {
    "application/vnd.databricks.v1+cell": {
     "cellMetadata": {
      "byteLimit": 2048000,
      "rowLimit": 10000
     },
     "inputWidgets": {},
     "nuid": "65cf6d12-cd6c-4cc4-9354-cef746e1370b",
     "showTitle": false,
     "tableResultSettingsMap": {},
     "title": ""
    }
   },
   "outputs": [],
   "source": [
    "# schema_validator.py\n",
    "\n",
    "def validate_schema(df, expected_schema_dict):\n",
    "    \"\"\"\n",
    "    Validates a Spark DataFrame against the expected schema.\n",
    "    Raises exception if schema mismatch found.\n",
    "    \"\"\"\n",
    "    expected_fields = expected_schema_dict.get(\"fields\", [])\n",
    "    expected_columns = [(field[\"name\"], field[\"type\"]) for field in expected_fields]\n",
    "    actual_columns = [(f.name, f.dataType.simpleString()) for f in df.schema.fields]\n",
    "\n",
    "    mismatches = [\n",
    "        (expected, actual)\n",
    "        for expected, actual in zip(expected_columns, actual_columns)\n",
    "        if expected != actual\n",
    "    ]\n",
    "\n",
    "    if mismatches:\n",
    "        raise ValueError(f\"Schema validation failed. Mismatches: {mismatches}\")\n",
    "\n",
    "    return df\n"
   ]
  },
  {
   "cell_type": "markdown",
   "metadata": {
    "application/vnd.databricks.v1+cell": {
     "cellMetadata": {},
     "inputWidgets": {},
     "nuid": "a7d649a6-363e-4a4f-8bf7-c363d5dc4bc0",
     "showTitle": false,
     "tableResultSettingsMap": {},
     "title": ""
    }
   },
   "source": []
  }
 ],
 "metadata": {
  "application/vnd.databricks.v1+notebook": {
   "computePreferences": null,
   "dashboards": [],
   "environmentMetadata": {
    "base_environment": "",
    "environment_version": "2"
   },
   "inputWidgetPreferences": null,
   "language": "python",
   "notebookMetadata": {
    "pythonIndentUnit": 4
   },
   "notebookName": "schema_validator.py",
   "widgets": {}
  },
  "language_info": {
   "name": "python"
  }
 },
 "nbformat": 4,
 "nbformat_minor": 0
}
